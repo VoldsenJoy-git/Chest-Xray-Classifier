{
 "cells": [
  {
   "cell_type": "markdown",
   "metadata": {},
   "source": [
    "# Import Tools "
   ]
  },
  {
   "cell_type": "code",
   "execution_count": 8,
   "metadata": {},
   "outputs": [],
   "source": [
    "import numpy as np\n",
    "import pandas as pd\n",
    "import matplotlib.pyplot as plt\n",
    "import matplotlib.image as mpimg    \n",
    "import seaborn as sns\n",
    "\n",
    "# Deep Learning Tools\n",
    "from tensorflow.keras import layers, models\n",
    "import keras\n",
    "from keras.models import Sequential, Model\n",
    "from keras.layers import Conv2D, MaxPool2D\n",
    "from keras.layers import Activation, Dropout, BatchNormalization, Flatten, Dense\n",
    "from keras.optimizers import Adam\n",
    "from keras.utils import to_categorical\n",
    "\n",
    "\n",
    "# Machine Learning Tools\n",
    "from sklearn.model_selection import train_test_split\n",
    "from sklearn.metrics import confusion_matrix, classification_report\n",
    "from sklearn.preprocessing import LabelEncoder\n"
   ]
  },
  {
   "cell_type": "markdown",
   "metadata": {},
   "source": [
    "# Data Loading "
   ]
  },
  {
   "cell_type": "code",
   "execution_count": 3,
   "metadata": {},
   "outputs": [
    {
     "name": "stdout",
     "output_type": "stream",
     "text": [
      "Total images found: 15153\n",
      "Sample paths: ['./covid_data\\\\COVID\\\\images\\\\COVID-1.png', './covid_data\\\\COVID\\\\images\\\\COVID-10.png', './covid_data\\\\COVID\\\\images\\\\COVID-100.png', './covid_data\\\\COVID\\\\images\\\\COVID-1000.png', './covid_data\\\\COVID\\\\images\\\\COVID-1001.png']\n"
     ]
    }
   ],
   "source": [
    "import os\n",
    "import cv2\n",
    "from tqdm import tqdm\n",
    "\n",
    "# Base path to the 'covid_data' folder\n",
    "base_path = './covid_data'\n",
    "\n",
    "# Collect image paths\n",
    "imagePaths = []\n",
    "for dirname, _, filenames in os.walk(base_path):\n",
    "    # Only process files inside the 'images' folders\n",
    "    if 'images' in dirname:  # Ensures the folder name contains 'images'\n",
    "        for filename in filenames:\n",
    "            if filename.endswith('.png'):  # Consider only PNG files\n",
    "                imagePaths.append(os.path.join(dirname, filename))\n",
    "\n",
    "# Display some collected paths for verification\n",
    "print(f\"Total images found: {len(imagePaths)}\")\n",
    "print(\"Sample paths:\", imagePaths[:5])\n"
   ]
  },
  {
   "cell_type": "markdown",
   "metadata": {},
   "source": [
    "# Image Preprocessing"
   ]
  },
  {
   "cell_type": "code",
   "execution_count": 4,
   "metadata": {},
   "outputs": [
    {
     "name": "stderr",
     "output_type": "stream",
     "text": [
      "100%|████████████████████████████████████████████████████████████████████████████| 15153/15153 [03:42<00:00, 68.13it/s]"
     ]
    },
    {
     "name": "stdout",
     "output_type": "stream",
     "text": [
      "Processed 15153 images with corresponding labels.\n"
     ]
    },
    {
     "name": "stderr",
     "output_type": "stream",
     "text": [
      "\n"
     ]
    }
   ],
   "source": [
    "# Data - Label\n",
    "Data = []\n",
    "Target = []\n",
    "resize = 150\n",
    "\n",
    "# Label mapping dictionary\n",
    "cat = {'Viral Pneumonia': 'Pneumonia', 'Normal': 'Normal', 'COVID': 'Covid-19'}\n",
    "\n",
    "# Iterate through the image paths and assign the labels\n",
    "for imagePath in tqdm(imagePaths):\n",
    "    label = imagePath.split(os.path.sep)[-3]  # Extract the label from parent folder (2 levels up from image)\n",
    "    \n",
    "    if label not in cat:\n",
    "        continue  # Skip this image if label is not found in dictionary\n",
    "    \n",
    "    image = cv2.imread(imagePath)\n",
    "    image = cv2.cvtColor(image, cv2.COLOR_BGR2RGB)\n",
    "    image = cv2.resize(image, (resize, resize)) / 255.0  # Normalize image pixels to [0, 1]\n",
    "\n",
    "    Data.append(image)\n",
    "    Target.append(cat[label])\n",
    "\n",
    "print(f\"Processed {len(Data)} images with corresponding labels.\")"
   ]
  },
  {
   "cell_type": "code",
   "execution_count": null,
   "metadata": {},
   "outputs": [],
   "source": [
    "#Resizing Images and Preparing Data"
   ]
  },
  {
   "cell_type": "code",
   "execution_count": 5,
   "metadata": {},
   "outputs": [
    {
     "name": "stdout",
     "output_type": "stream",
     "text": [
      "15153\n",
      "15153\n"
     ]
    }
   ],
   "source": [
    "print(len(Data))\n",
    "print(len(Target))"
   ]
  },
  {
   "cell_type": "code",
   "execution_count": 16,
   "metadata": {},
   "outputs": [
    {
     "data": {
      "text/plain": [
       "['Normal',\n",
       " 'Normal',\n",
       " 'Normal',\n",
       " 'Normal',\n",
       " 'Normal',\n",
       " 'Normal',\n",
       " 'Normal',\n",
       " 'Normal',\n",
       " 'Normal',\n",
       " 'Normal']"
      ]
     },
     "execution_count": 16,
     "metadata": {},
     "output_type": "execute_result"
    }
   ],
   "source": [
    "Target[4400:4410]"
   ]
  },
  {
   "cell_type": "markdown",
   "metadata": {},
   "source": [
    "# Label Encoding and to one hot encoding\n",
    "\n",
    "\n",
    "# examples\n",
    "[[0., 1., 0.],  # 'Normal' -> [0, 1, 0]\n",
    "\n",
    " [0., 0., 1.],  # 'Pneumonia' -> [0, 0, 1]\n",
    " \n",
    " [1., 0., 0.]]  # 'Covid-19' -> [1, 0, 0]"
   ]
  },
  {
   "cell_type": "code",
   "execution_count": 18,
   "metadata": {},
   "outputs": [
    {
     "name": "stdout",
     "output_type": "stream",
     "text": [
      "['Covid-19' 'Normal' 'Pneumonia']\n",
      "[1. 0. 0.]\n"
     ]
    }
   ],
   "source": [
    "# encode labels as integers\n",
    "\n",
    "le = LabelEncoder()\n",
    "labels = le.fit_transform(Target)\n",
    "labels = to_categorical(labels) #Converts integer-encoded labels into one-hot encoded vectors. \n",
    "                                #A one-hot vector is an array with 1 at the index of the class and 0 elsewhere.\n",
    "\n",
    "print(le.classes_)\n",
    "print(labels[0])"
   ]
  },
  {
   "cell_type": "markdown",
   "metadata": {},
   "source": [
    "# Splitting Dataset"
   ]
  },
  {
   "cell_type": "code",
   "execution_count": null,
   "metadata": {},
   "outputs": [],
   "source": []
  },
  {
   "cell_type": "code",
   "execution_count": 4,
   "metadata": {},
   "outputs": [
    {
     "name": "stderr",
     "output_type": "stream",
     "text": [
      "100%|██████████████████████████████████████████████████████████████████████████████████████████| 3616/3616 [00:15<00:00, 239.35it/s]\n",
      "100%|████████████████████████████████████████████████████████████████████████████████████████| 10192/10192 [01:18<00:00, 130.19it/s]\n",
      "100%|███████████████████████████████████████████████████████████████████████████████████████████| 1345/1345 [00:16<00:00, 79.16it/s]\n"
     ]
    }
   ],
   "source": [
    "import os\n",
    "import cv2\n",
    "import numpy as np\n",
    "from tqdm import tqdm\n",
    "from sklearn.model_selection import train_test_split\n",
    "from sklearn.preprocessing import LabelEncoder\n",
    "from tensorflow.keras.utils import to_categorical\n",
    "from tensorflow.keras.preprocessing.image import ImageDataGenerator\n",
    "\n",
    "# Parameters\n",
    "resize = 100  # Resize images to 100x100\n",
    "\n",
    "# Data and Labels\n",
    "Data = []\n",
    "Target = []\n",
    "\n",
    "# Label mapping\n",
    "cat = {'Viral Pneumonia': 'Pneumonia', 'Normal': 'Normal', 'COVID': 'Covid-19'}\n",
    "\n",
    "# Load images and labels\n",
    "base_path = './covid_data'\n",
    "for dirname, _, filenames in os.walk(base_path):\n",
    "    if 'images' in dirname:\n",
    "        for filename in tqdm(filenames):\n",
    "            if filename.endswith('.png'):\n",
    "                label = dirname.split(os.path.sep)[-2]  # Parent folder name\n",
    "                if label not in cat:\n",
    "                    continue\n",
    "                image = cv2.imread(os.path.join(dirname, filename))\n",
    "                image = cv2.cvtColor(image, cv2.COLOR_BGR2RGB)\n",
    "                image = cv2.resize(image, (resize, resize)) / 255.0  # Normalize\n",
    "                Data.append(image)\n",
    "                Target.append(cat[label])\n",
    "\n",
    "# Convert to numpy arrays\n",
    "Data = np.array(Data, dtype=np.float32)\n",
    "Target = np.array(Target)\n",
    "\n",
    "# Encode labels and convert to one-hot encoding\n",
    "le = LabelEncoder()\n",
    "labels = le.fit_transform(Target)\n",
    "labels = to_categorical(labels)\n",
    "\n",
    "\n"
   ]
  },
  {
   "cell_type": "code",
   "execution_count": 6,
   "metadata": {},
   "outputs": [
    {
     "name": "stdout",
     "output_type": "stream",
     "text": [
      "Training data shape: (9697, 100, 100, 3)\n",
      "Validation data shape: (2425, 100, 100, 3)\n",
      "Testing data shape: (3031, 100, 100, 3)\n"
     ]
    }
   ],
   "source": [
    "# Train-test split\n",
    "x_train, x_test, y_train, y_test = train_test_split(Data, labels, test_size=0.20, stratify=labels, random_state=42)\n",
    "\n",
    "# Train-validation split\n",
    "x_train, x_val, y_train, y_val = train_test_split(x_train, y_train, test_size=0.20, stratify=y_train, random_state=42)\n",
    "\n",
    "print(\"Training data shape:\", x_train.shape)\n",
    "print(\"Validation data shape:\", x_val.shape)\n",
    "print(\"Testing data shape:\", x_test.shape)"
   ]
  },
  {
   "cell_type": "markdown",
   "metadata": {},
   "source": [
    "# CNN Model Training"
   ]
  },
  {
   "cell_type": "code",
   "execution_count": 10,
   "metadata": {},
   "outputs": [
    {
     "name": "stdout",
     "output_type": "stream",
     "text": [
      "Epoch 1/25\n",
      "\u001b[1m243/243\u001b[0m \u001b[32m━━━━━━━━━━━━━━━━━━━━\u001b[0m\u001b[37m\u001b[0m \u001b[1m62s\u001b[0m 238ms/step - accuracy: 0.7031 - loss: 0.7477 - val_accuracy: 0.8726 - val_loss: 0.3445\n",
      "Epoch 2/25\n",
      "\u001b[1m243/243\u001b[0m \u001b[32m━━━━━━━━━━━━━━━━━━━━\u001b[0m\u001b[37m\u001b[0m \u001b[1m55s\u001b[0m 227ms/step - accuracy: 0.8638 - loss: 0.3307 - val_accuracy: 0.9076 - val_loss: 0.2424\n",
      "Epoch 3/25\n",
      "\u001b[1m243/243\u001b[0m \u001b[32m━━━━━━━━━━━━━━━━━━━━\u001b[0m\u001b[37m\u001b[0m \u001b[1m54s\u001b[0m 221ms/step - accuracy: 0.9069 - loss: 0.2344 - val_accuracy: 0.9233 - val_loss: 0.2119\n",
      "Epoch 4/25\n",
      "\u001b[1m243/243\u001b[0m \u001b[32m━━━━━━━━━━━━━━━━━━━━\u001b[0m\u001b[37m\u001b[0m \u001b[1m55s\u001b[0m 226ms/step - accuracy: 0.9171 - loss: 0.2161 - val_accuracy: 0.9105 - val_loss: 0.2466\n",
      "Epoch 5/25\n",
      "\u001b[1m243/243\u001b[0m \u001b[32m━━━━━━━━━━━━━━━━━━━━\u001b[0m\u001b[37m\u001b[0m \u001b[1m60s\u001b[0m 245ms/step - accuracy: 0.9275 - loss: 0.1937 - val_accuracy: 0.9348 - val_loss: 0.1758\n",
      "Epoch 6/25\n",
      "\u001b[1m243/243\u001b[0m \u001b[32m━━━━━━━━━━━━━━━━━━━━\u001b[0m\u001b[37m\u001b[0m \u001b[1m54s\u001b[0m 222ms/step - accuracy: 0.9419 - loss: 0.1529 - val_accuracy: 0.9381 - val_loss: 0.1713\n",
      "Epoch 7/25\n",
      "\u001b[1m243/243\u001b[0m \u001b[32m━━━━━━━━━━━━━━━━━━━━\u001b[0m\u001b[37m\u001b[0m \u001b[1m53s\u001b[0m 216ms/step - accuracy: 0.9479 - loss: 0.1367 - val_accuracy: 0.9443 - val_loss: 0.1763\n",
      "Epoch 8/25\n",
      "\u001b[1m243/243\u001b[0m \u001b[32m━━━━━━━━━━━━━━━━━━━━\u001b[0m\u001b[37m\u001b[0m \u001b[1m53s\u001b[0m 216ms/step - accuracy: 0.9588 - loss: 0.1126 - val_accuracy: 0.9501 - val_loss: 0.1614\n",
      "Epoch 9/25\n",
      "\u001b[1m243/243\u001b[0m \u001b[32m━━━━━━━━━━━━━━━━━━━━\u001b[0m\u001b[37m\u001b[0m \u001b[1m52s\u001b[0m 215ms/step - accuracy: 0.9644 - loss: 0.1005 - val_accuracy: 0.9530 - val_loss: 0.1613\n",
      "Epoch 10/25\n",
      "\u001b[1m243/243\u001b[0m \u001b[32m━━━━━━━━━━━━━━━━━━━━\u001b[0m\u001b[37m\u001b[0m \u001b[1m52s\u001b[0m 213ms/step - accuracy: 0.9641 - loss: 0.0962 - val_accuracy: 0.9518 - val_loss: 0.1628\n",
      "Epoch 11/25\n",
      "\u001b[1m243/243\u001b[0m \u001b[32m━━━━━━━━━━━━━━━━━━━━\u001b[0m\u001b[37m\u001b[0m \u001b[1m52s\u001b[0m 215ms/step - accuracy: 0.9661 - loss: 0.0847 - val_accuracy: 0.9513 - val_loss: 0.1648\n",
      "Epoch 12/25\n",
      "\u001b[1m243/243\u001b[0m \u001b[32m━━━━━━━━━━━━━━━━━━━━\u001b[0m\u001b[37m\u001b[0m \u001b[1m52s\u001b[0m 212ms/step - accuracy: 0.9732 - loss: 0.0726 - val_accuracy: 0.9501 - val_loss: 0.1673\n",
      "Epoch 13/25\n",
      "\u001b[1m243/243\u001b[0m \u001b[32m━━━━━━━━━━━━━━━━━━━━\u001b[0m\u001b[37m\u001b[0m \u001b[1m69s\u001b[0m 283ms/step - accuracy: 0.9732 - loss: 0.0726 - val_accuracy: 0.9522 - val_loss: 0.1678\n",
      "Epoch 14/25\n",
      "\u001b[1m243/243\u001b[0m \u001b[32m━━━━━━━━━━━━━━━━━━━━\u001b[0m\u001b[37m\u001b[0m \u001b[1m68s\u001b[0m 280ms/step - accuracy: 0.9756 - loss: 0.0644 - val_accuracy: 0.9340 - val_loss: 0.2028\n",
      "Epoch 15/25\n",
      "\u001b[1m243/243\u001b[0m \u001b[32m━━━━━━━━━━━━━━━━━━━━\u001b[0m\u001b[37m\u001b[0m \u001b[1m68s\u001b[0m 278ms/step - accuracy: 0.9771 - loss: 0.0649 - val_accuracy: 0.9542 - val_loss: 0.1777\n",
      "Epoch 16/25\n",
      "\u001b[1m243/243\u001b[0m \u001b[32m━━━━━━━━━━━━━━━━━━━━\u001b[0m\u001b[37m\u001b[0m \u001b[1m71s\u001b[0m 293ms/step - accuracy: 0.9799 - loss: 0.0578 - val_accuracy: 0.9633 - val_loss: 0.1609\n",
      "Epoch 17/25\n",
      "\u001b[1m243/243\u001b[0m \u001b[32m━━━━━━━━━━━━━━━━━━━━\u001b[0m\u001b[37m\u001b[0m \u001b[1m70s\u001b[0m 288ms/step - accuracy: 0.9825 - loss: 0.0448 - val_accuracy: 0.9588 - val_loss: 0.1688\n",
      "Epoch 18/25\n",
      "\u001b[1m243/243\u001b[0m \u001b[32m━━━━━━━━━━━━━━━━━━━━\u001b[0m\u001b[37m\u001b[0m \u001b[1m69s\u001b[0m 285ms/step - accuracy: 0.9840 - loss: 0.0477 - val_accuracy: 0.9534 - val_loss: 0.1762\n",
      "Epoch 19/25\n",
      "\u001b[1m243/243\u001b[0m \u001b[32m━━━━━━━━━━━━━━━━━━━━\u001b[0m\u001b[37m\u001b[0m \u001b[1m66s\u001b[0m 273ms/step - accuracy: 0.9815 - loss: 0.0530 - val_accuracy: 0.9559 - val_loss: 0.1883\n",
      "Epoch 20/25\n",
      "\u001b[1m243/243\u001b[0m \u001b[32m━━━━━━━━━━━━━━━━━━━━\u001b[0m\u001b[37m\u001b[0m \u001b[1m74s\u001b[0m 302ms/step - accuracy: 0.9808 - loss: 0.0531 - val_accuracy: 0.9571 - val_loss: 0.1821\n",
      "Epoch 21/25\n",
      "\u001b[1m243/243\u001b[0m \u001b[32m━━━━━━━━━━━━━━━━━━━━\u001b[0m\u001b[37m\u001b[0m \u001b[1m75s\u001b[0m 309ms/step - accuracy: 0.9852 - loss: 0.0435 - val_accuracy: 0.9518 - val_loss: 0.2131\n",
      "Epoch 22/25\n",
      "\u001b[1m243/243\u001b[0m \u001b[32m━━━━━━━━━━━━━━━━━━━━\u001b[0m\u001b[37m\u001b[0m \u001b[1m70s\u001b[0m 287ms/step - accuracy: 0.9863 - loss: 0.0394 - val_accuracy: 0.9596 - val_loss: 0.1731\n",
      "Epoch 23/25\n",
      "\u001b[1m243/243\u001b[0m \u001b[32m━━━━━━━━━━━━━━━━━━━━\u001b[0m\u001b[37m\u001b[0m \u001b[1m73s\u001b[0m 299ms/step - accuracy: 0.9859 - loss: 0.0380 - val_accuracy: 0.9555 - val_loss: 0.2281\n",
      "Epoch 24/25\n",
      "\u001b[1m243/243\u001b[0m \u001b[32m━━━━━━━━━━━━━━━━━━━━\u001b[0m\u001b[37m\u001b[0m \u001b[1m71s\u001b[0m 294ms/step - accuracy: 0.9852 - loss: 0.0371 - val_accuracy: 0.9625 - val_loss: 0.1935\n",
      "Epoch 25/25\n",
      "\u001b[1m243/243\u001b[0m \u001b[32m━━━━━━━━━━━━━━━━━━━━\u001b[0m\u001b[37m\u001b[0m \u001b[1m72s\u001b[0m 297ms/step - accuracy: 0.9877 - loss: 0.0309 - val_accuracy: 0.9579 - val_loss: 0.2128\n"
     ]
    }
   ],
   "source": [
    "\n",
    "# Define the model\n",
    "s = 100  # Size\n",
    "\n",
    "model = Sequential()\n",
    "\n",
    "\n",
    "# Feature Extraction Parts\n",
    "model.add(Conv2D(filters=32, kernel_size=(3, 3), activation=\"relu\", input_shape=(s, s, 3), kernel_initializer='he_normal'))\n",
    "model.add(MaxPool2D(pool_size=(2, 2)))\n",
    "model.add(Conv2D(filters=64, kernel_size=(3, 3), activation=\"relu\"))\n",
    "model.add(MaxPool2D(pool_size=(2, 2)))\n",
    "model.add(Conv2D(filters=128, kernel_size=(3, 3), activation=\"relu\"))\n",
    "model.add(MaxPool2D(pool_size=(2, 2), strides=(1, 1)))\n",
    "model.add(Dropout(0.25))\n",
    "\n",
    "\n",
    "# ann = dense layers\n",
    "\n",
    "# Nueral Network (Dense Layers)\n",
    "model.add(Flatten())  # flatten the data , convert fro 2d array to 1d array\n",
    "model.add(Dense(64, activation=\"relu\"))\n",
    "model.add(Dropout(0.2))\n",
    "model.add(Dense(3, activation=\"softmax\"))\n",
    "\n",
    "\n",
    "\n",
    "# Compile the model\n",
    "model.compile(optimizer=keras.optimizers.Adam(),\n",
    "              loss=keras.losses.categorical_crossentropy,\n",
    "              metrics=['accuracy'])\n",
    "\n",
    "# Train the model with validation data\n",
    "epochs = 25\n",
    "history = model.fit(x_train, y_train, epochs=epochs, batch_size=40, verbose=1, validation_data=(x_val, y_val))"
   ]
  },
  {
   "cell_type": "markdown",
   "metadata": {},
   "source": [
    "# Extract accuracy and loss from the history object"
   ]
  },
  {
   "cell_type": "code",
   "execution_count": 13,
   "metadata": {},
   "outputs": [
    {
     "data": {
      "image/png": "[encoded data removed]",
      "text/plain": [
       "<Figure size 1200x500 with 2 Axes>"
      ]
     },
     "metadata": {},
     "output_type": "display_data"
    }
   ],
   "source": [
    "# Plot training & validation accuracy values\n",
    "plt.figure(figsize=(12, 5))\n",
    "\n",
    "plt.subplot(1, 2, 1)\n",
    "plt.plot(history.history['accuracy'])\n",
    "plt.plot(history.history['val_accuracy'])\n",
    "plt.title('Model Accuracy')\n",
    "plt.xlabel('Epoch')\n",
    "plt.ylabel('Accuracy')\n",
    "plt.legend(['Train', 'Validation'])\n",
    "\n",
    "# Plot training & validation loss values\n",
    "plt.subplot(1, 2, 2)\n",
    "plt.plot(history.history['loss'])\n",
    "plt.plot(history.history['val_loss'])\n",
    "plt.title('Model Loss')\n",
    "plt.xlabel('Epoch')\n",
    "plt.ylabel('Loss')\n",
    "plt.legend(['Train', 'Validation'])\n",
    "\n",
    "plt.tight_layout()\n",
    "plt.show()"
   ]
  },
  {
   "cell_type": "markdown",
   "metadata": {},
   "source": [
    "# Plotting Confusion Matrix"
   ]
  },
  {
   "cell_type": "code",
   "execution_count": 15,
   "metadata": {},
   "outputs": [
    {
     "name": "stdout",
     "output_type": "stream",
     "text": [
      "\u001b[1m95/95\u001b[0m \u001b[32m━━━━━━━━━━━━━━━━━━━━\u001b[0m\u001b[37m\u001b[0m \u001b[1m4s\u001b[0m 44ms/step\n",
      "[[ 670   50    3]\n",
      " [  35 1980   24]\n",
      " [   3   10  256]]\n"
     ]
    }
   ],
   "source": [
    "# Make predictions\n",
    "predictions = model.predict(x_test)\n",
    "y_pred = np.argmax(predictions, axis=1)  # Convert predictions to class labels\n",
    "\n",
    "# Convert testY from one-hot encoded to class labels (integers)\n",
    "y_true = np.argmax(y_test, axis=1)\n",
    "\n",
    "# Compute confusion matrix\n",
    "cm = confusion_matrix(y_true, y_pred)\n",
    "\n",
    "print(cm)"
   ]
  },
  {
   "cell_type": "code",
   "execution_count": 17,
   "metadata": {},
   "outputs": [],
   "source": [
    "class_names = le.classes_"
   ]
  },
  {
   "cell_type": "code",
   "execution_count": 19,
   "metadata": {},
   "outputs": [
    {
     "data": {
      "image/png": "[encoded data removed]",
      "text/plain": [
       "<Figure size 800x600 with 1 Axes>"
      ]
     },
     "metadata": {},
     "output_type": "display_data"
    }
   ],
   "source": [
    "# Create DataFrame for the confusion matrix\n",
    "Confusion_Matrix = pd.DataFrame(cm, index=class_names, columns=class_names)\n",
    "\n",
    "# Plot the confusion matrix using seaborn's heatmap\n",
    "plt.figure(figsize=(8, 6))\n",
    "sns.heatmap(Confusion_Matrix, annot=True, fmt='d', cmap='Blues', cbar=False)\n",
    "plt.xlabel('Predicted')\n",
    "plt.ylabel('True')\n",
    "plt.title('Confusion Matrix')\n",
    "plt.show()"
   ]
  },
  {
   "cell_type": "markdown",
   "metadata": {},
   "source": [
    "# classification report on test"
   ]
  },
  {
   "cell_type": "code",
   "execution_count": 20,
   "metadata": {},
   "outputs": [
    {
     "name": "stdout",
     "output_type": "stream",
     "text": [
      "              precision    recall  f1-score   support\n",
      "\n",
      "    Covid-19    0.94633   0.92669   0.93641       723\n",
      "      Normal    0.97059   0.97106   0.97083      2039\n",
      "   Pneumonia    0.90459   0.95167   0.92754       269\n",
      "\n",
      "    accuracy                        0.95876      3031\n",
      "   macro avg    0.94050   0.94981   0.94492      3031\n",
      "weighted avg    0.95894   0.95876   0.95877      3031\n",
      "\n"
     ]
    }
   ],
   "source": [
    "# predIdxs = np.argmax(predIdxs, axis=1)\n",
    "print(classification_report(y_true, y_pred, target_names=le.classes_, digits = 5))"
   ]
  },
  {
   "cell_type": "markdown",
   "metadata": {},
   "source": [
    "# Save Model and Label Encoder"
   ]
  },
  {
   "cell_type": "code",
   "execution_count": 21,
   "metadata": {},
   "outputs": [
    {
     "name": "stderr",
     "output_type": "stream",
     "text": [
      "WARNING:absl:You are saving your model as an HDF5 file via `model.save()` or `keras.saving.save_model(model)`. This file format is considered legacy. We recommend using instead the native Keras format, e.g. `model.save('my_model.keras')` or `keras.saving.save_model(model, 'my_model.keras')`. \n"
     ]
    },
    {
     "name": "stdout",
     "output_type": "stream",
     "text": [
      "saved\n"
     ]
    }
   ],
   "source": [
    "model.save('CNN_Covid19_Xray_Version.h5') \n",
    "\n",
    "\n",
    "import pickle\n",
    "\n",
    "pickle.dump(le, open(\"Label_encoder.pkl\",'wb'))\n",
    "print(\"saved\")"
   ]
  },
  {
   "cell_type": "markdown",
   "metadata": {},
   "source": [
    "# Load for inference"
   ]
  },
  {
   "cell_type": "code",
   "execution_count": 25,
   "metadata": {},
   "outputs": [
    {
     "name": "stderr",
     "output_type": "stream",
     "text": [
      "WARNING:absl:Compiled the loaded model, but the compiled metrics have yet to be built. `model.compile_metrics` will be empty until you train or evaluate the model.\n"
     ]
    }
   ],
   "source": [
    "from tensorflow.keras.models import load_model\n",
    "\n",
    "# Load the saved model\n",
    "model = load_model('CNN_Covid19_Xray_Version.h5')\n",
    "\n",
    "le = pickle.load(open(\"Label_encoder.pkl\",'rb'))"
   ]
  },
  {
   "cell_type": "markdown",
   "metadata": {},
   "source": [
    "# Real Time Detection System"
   ]
  },
  {
   "cell_type": "code",
   "execution_count": 26,
   "metadata": {},
   "outputs": [],
   "source": [
    "import cv2\n",
    "import numpy as np\n",
    "import matplotlib.pyplot as plt\n",
    "\n",
    "def detection_system(image_path, model, label_encoder, image_size=100):\n",
    "    \"\"\"\n",
    "    Detection system function to classify an input image.\n",
    "\n",
    "    Parameters:\n",
    "    - image_path: The path to the image to classify.\n",
    "    - model: The trained Keras model.\n",
    "    - label_encoder: The LabelEncoder used to encode the labels.\n",
    "    - image_size: The target size for resizing the image (default: 150x150).\n",
    "    \n",
    "    Returns:\n",
    "    - predicted_label: The predicted class label.\n",
    "    - confidence_score: The confidence score of the predicted class.\n",
    "    \"\"\"\n",
    "    # Load the image from the provided path\n",
    "    image = cv2.imread(image_path)\n",
    "    \n",
    "    if image is None:\n",
    "        raise ValueError(f\"Image not found at path: {image_path}\")\n",
    "    \n",
    "    # Convert image from BGR to RGB format\n",
    "    image_rgb = cv2.cvtColor(image, cv2.COLOR_BGR2RGB)\n",
    "    \n",
    "    # Resize the image to the same size as the training images\n",
    "    image_resized = cv2.resize(image_rgb, (image_size, image_size))\n",
    "    \n",
    "    # Normalize the pixel values to the range [0, 1]\n",
    "    image_normalized = image_resized / 255.0\n",
    "    \n",
    "    # Expand the dimensions to match the input shape for the model\n",
    "    image_input = np.expand_dims(image_normalized, axis=0)\n",
    "    \n",
    "    # Predict the class of the image\n",
    "    predictions = model.predict(image_input)\n",
    "    \n",
    "    # Get the predicted class index and confidence score\n",
    "    predicted_index = np.argmax(predictions)\n",
    "    confidence_score = predictions[0][predicted_index]\n",
    "    \n",
    "    # Decode the predicted index back to the original label\n",
    "    predicted_label = label_encoder.inverse_transform([predicted_index])[0]\n",
    "    \n",
    "    \n",
    "    # Display the image with the predicted label and confidence score\n",
    "    plt.imshow(image_resized)\n",
    "    plt.title(f\"Predicted: {predicted_label}, Confidence: {confidence_score*100:.2f}%\")\n",
    "    plt.axis('off')\n",
    "    plt.show()\n",
    "\n",
    "    return predicted_label, confidence_score\n",
    "\n"
   ]
  },
  {
   "cell_type": "code",
   "execution_count": null,
   "metadata": {},
   "outputs": [],
   "source": []
  },
  {
   "cell_type": "markdown",
   "metadata": {
    "papermill": {
     "duration": 0.056078,
     "end_time": "2021-04-15T14:35:17.406707",
     "exception": false,
     "start_time": "2021-04-15T14:35:17.350629",
     "status": "completed"
    },
    "tags": []
   },
   "source": [
    " "
   ]
  },
  {
   "cell_type": "code",
   "execution_count": 34,
   "metadata": {},
   "outputs": [
    {
     "name": "stdout",
     "output_type": "stream",
     "text": [
      "\u001b[1m1/1\u001b[0m \u001b[32m━━━━━━━━━━━━━━━━━━━━\u001b[0m\u001b[37m\u001b[0m \u001b[1m0s\u001b[0m 43ms/step\n"
     ]
    },
    {
     "data": {
      "image/png": "[encoded data removed]",
      "text/plain": [
       "<Figure size 640x480 with 1 Axes>"
      ]
     },
     "metadata": {},
     "output_type": "display_data"
    },
    {
     "name": "stdout",
     "output_type": "stream",
     "text": [
      "Predicted Label: Normal, Confidence Score: 100.00%\n"
     ]
    }
   ],
   "source": [
    "# Example usage\n",
    "image_path =\"./covid_data/Normal/images/Normal-1991.png\"\n",
    "predicted_label, confidence_score = detection_system(image_path, model, le)\n",
    "print(f\"Predicted Label: {predicted_label}, Confidence Score: {confidence_score*100:.2f}%\")\n"
   ]
  },
  {
   "cell_type": "code",
   "execution_count": null,
   "metadata": {},
   "outputs": [],
   "source": []
  }
 ],
 "metadata": {
  "kaggle": {
   "accelerator": "none",
   "dataSources": [
    {
     "datasetId": 576013,
     "sourceId": 3324348,
     "sourceType": "datasetVersion"
    }
   ],
   "dockerImageVersionId": 30761,
   "isGpuEnabled": false,
   "isInternetEnabled": true,
   "language": "python",
   "sourceType": "notebook"
  },
  "kernelspec": {
   "display_name": "Python 3 (ipykernel)",
   "language": "python",
   "name": "python3"
  },
  "language_info": {
   "codemirror_mode": {
    "name": "ipython",
    "version": 3
   },
   "file_extension": ".py",
   "mimetype": "text/x-python",
   "name": "python",
   "nbconvert_exporter": "python",
   "pygments_lexer": "ipython3",
   "version": "3.10.11"
  },
  "papermill": {
   "default_parameters": {},
   "duration": 347.764849,
   "end_time": "2021-04-15T14:35:18.285493",
   "environment_variables": {},
   "exception": null,
   "input_path": "__notebook__.ipynb",
   "output_path": "__notebook__.ipynb",
   "parameters": {},
   "start_time": "2021-04-15T14:29:30.520644",
   "version": "2.2.2"
  },
  "widgets": {
   "application/vnd.jupyter.widget-state+json": {
    "state": {
     "30ef9830fb684d6797c6ad20406de2eb": {
      "model_module": "@jupyter-widgets/controls",
      "model_module_version": "1.5.0",
      "model_name": "DescriptionStyleModel",
      "state": {
       "_model_module": "@jupyter-widgets/controls",
       "_model_module_version": "1.5.0",
       "_model_name": "DescriptionStyleModel",
       "_view_count": null,
       "_view_module": "@jupyter-widgets/base",
       "_view_module_version": "1.2.0",
       "_view_name": "StyleView",
       "description_width": ""
      }
     },
     "424fc2326f5c4826ab210dc1bae95e01": {
      "model_module": "@jupyter-widgets/controls",
      "model_module_version": "1.5.0",
      "model_name": "FloatProgressModel",
      "state": {
       "_dom_classes": [],
       "_model_module": "@jupyter-widgets/controls",
       "_model_module_version": "1.5.0",
       "_model_name": "FloatProgressModel",
       "_view_count": null,
       "_view_module": "@jupyter-widgets/controls",
       "_view_module_version": "1.5.0",
       "_view_name": "ProgressView",
       "bar_style": "success",
       "description": "",
       "description_tooltip": null,
       "layout": "IPY_MODEL_52a590f0a6624992aefc400f50839b9b",
       "max": 46827520,
       "min": 0,
       "orientation": "horizontal",
       "style": "IPY_MODEL_8d999b1daa874998a144ef6e53ed6e80",
       "value": 46827520
      }
     },
     "5114fa65642b48798babf0a60edd045f": {
      "model_module": "@jupyter-widgets/base",
      "model_module_version": "1.2.0",
      "model_name": "LayoutModel",
      "state": {
       "_model_module": "@jupyter-widgets/base",
       "_model_module_version": "1.2.0",
       "_model_name": "LayoutModel",
       "_view_count": null,
       "_view_module": "@jupyter-widgets/base",
       "_view_module_version": "1.2.0",
       "_view_name": "LayoutView",
       "align_content": null,
       "align_items": null,
       "align_self": null,
       "border": null,
       "bottom": null,
       "display": null,
       "flex": null,
       "flex_flow": null,
       "grid_area": null,
       "grid_auto_columns": null,
       "grid_auto_flow": null,
       "grid_auto_rows": null,
       "grid_column": null,
       "grid_gap": null,
       "grid_row": null,
       "grid_template_areas": null,
       "grid_template_columns": null,
       "grid_template_rows": null,
       "height": null,
       "justify_content": null,
       "justify_items": null,
       "left": null,
       "margin": null,
       "max_height": null,
       "max_width": null,
       "min_height": null,
       "min_width": null,
       "object_fit": null,
       "object_position": null,
       "order": null,
       "overflow": null,
       "overflow_x": null,
       "overflow_y": null,
       "padding": null,
       "right": null,
       "top": null,
       "visibility": null,
       "width": null
      }
     },
     "52a590f0a6624992aefc400f50839b9b": {
      "model_module": "@jupyter-widgets/base",
      "model_module_version": "1.2.0",
      "model_name": "LayoutModel",
      "state": {
       "_model_module": "@jupyter-widgets/base",
       "_model_module_version": "1.2.0",
       "_model_name": "LayoutModel",
       "_view_count": null,
       "_view_module": "@jupyter-widgets/base",
       "_view_module_version": "1.2.0",
       "_view_name": "LayoutView",
       "align_content": null,
       "align_items": null,
       "align_self": null,
       "border": null,
       "bottom": null,
       "display": null,
       "flex": null,
       "flex_flow": null,
       "grid_area": null,
       "grid_auto_columns": null,
       "grid_auto_flow": null,
       "grid_auto_rows": null,
       "grid_column": null,
       "grid_gap": null,
       "grid_row": null,
       "grid_template_areas": null,
       "grid_template_columns": null,
       "grid_template_rows": null,
       "height": null,
       "justify_content": null,
       "justify_items": null,
       "left": null,
       "margin": null,
       "max_height": null,
       "max_width": null,
       "min_height": null,
       "min_width": null,
       "object_fit": null,
       "object_position": null,
       "order": null,
       "overflow": null,
       "overflow_x": null,
       "overflow_y": null,
       "padding": null,
       "right": null,
       "top": null,
       "visibility": null,
       "width": null
      }
     },
     "5ba7eec40fef412d8fd85c6dca76f07e": {
      "model_module": "@jupyter-widgets/controls",
      "model_module_version": "1.5.0",
      "model_name": "HTMLModel",
      "state": {
       "_dom_classes": [],
       "_model_module": "@jupyter-widgets/controls",
       "_model_module_version": "1.5.0",
       "_model_name": "HTMLModel",
       "_view_count": null,
       "_view_module": "@jupyter-widgets/controls",
       "_view_module_version": "1.5.0",
       "_view_name": "HTMLView",
       "description": "",
       "description_tooltip": null,
       "layout": "IPY_MODEL_b7a1020ca319453f8c7413a0bb7eb77d",
       "placeholder": "​",
       "style": "IPY_MODEL_30ef9830fb684d6797c6ad20406de2eb",
       "value": "100%"
      }
     },
     "8d999b1daa874998a144ef6e53ed6e80": {
      "model_module": "@jupyter-widgets/controls",
      "model_module_version": "1.5.0",
      "model_name": "ProgressStyleModel",
      "state": {
       "_model_module": "@jupyter-widgets/controls",
       "_model_module_version": "1.5.0",
       "_model_name": "ProgressStyleModel",
       "_view_count": null,
       "_view_module": "@jupyter-widgets/base",
       "_view_module_version": "1.2.0",
       "_view_name": "StyleView",
       "bar_color": null,
       "description_width": ""
      }
     },
     "a2d65a7e071b4281a91bc744a6be84f3": {
      "model_module": "@jupyter-widgets/controls",
      "model_module_version": "1.5.0",
      "model_name": "HTMLModel",
      "state": {
       "_dom_classes": [],
       "_model_module": "@jupyter-widgets/controls",
       "_model_module_version": "1.5.0",
       "_model_name": "HTMLModel",
       "_view_count": null,
       "_view_module": "@jupyter-widgets/controls",
       "_view_module_version": "1.5.0",
       "_view_name": "HTMLView",
       "description": "",
       "description_tooltip": null,
       "layout": "IPY_MODEL_5114fa65642b48798babf0a60edd045f",
       "placeholder": "​",
       "style": "IPY_MODEL_fda710b920154f16bcce8cd9dfb8502c",
       "value": " 44.7M/44.7M [00:02&lt;00:00, 22.9MB/s]"
      }
     },
     "aa5659f72e674fde976ec785e9bee4c0": {
      "model_module": "@jupyter-widgets/controls",
      "model_module_version": "1.5.0",
      "model_name": "HBoxModel",
      "state": {
       "_dom_classes": [],
       "_model_module": "@jupyter-widgets/controls",
       "_model_module_version": "1.5.0",
       "_model_name": "HBoxModel",
       "_view_count": null,
       "_view_module": "@jupyter-widgets/controls",
       "_view_module_version": "1.5.0",
       "_view_name": "HBoxView",
       "box_style": "",
       "children": [
        "IPY_MODEL_5ba7eec40fef412d8fd85c6dca76f07e",
        "IPY_MODEL_424fc2326f5c4826ab210dc1bae95e01",
        "IPY_MODEL_a2d65a7e071b4281a91bc744a6be84f3"
       ],
       "layout": "IPY_MODEL_fc93cb2262bf4af19e60b347af1411e9"
      }
     },
     "b7a1020ca319453f8c7413a0bb7eb77d": {
      "model_module": "@jupyter-widgets/base",
      "model_module_version": "1.2.0",
      "model_name": "LayoutModel",
      "state": {
       "_model_module": "@jupyter-widgets/base",
       "_model_module_version": "1.2.0",
       "_model_name": "LayoutModel",
       "_view_count": null,
       "_view_module": "@jupyter-widgets/base",
       "_view_module_version": "1.2.0",
       "_view_name": "LayoutView",
       "align_content": null,
       "align_items": null,
       "align_self": null,
       "border": null,
       "bottom": null,
       "display": null,
       "flex": null,
       "flex_flow": null,
       "grid_area": null,
       "grid_auto_columns": null,
       "grid_auto_flow": null,
       "grid_auto_rows": null,
       "grid_column": null,
       "grid_gap": null,
       "grid_row": null,
       "grid_template_areas": null,
       "grid_template_columns": null,
       "grid_template_rows": null,
       "height": null,
       "justify_content": null,
       "justify_items": null,
       "left": null,
       "margin": null,
       "max_height": null,
       "max_width": null,
       "min_height": null,
       "min_width": null,
       "object_fit": null,
       "object_position": null,
       "order": null,
       "overflow": null,
       "overflow_x": null,
       "overflow_y": null,
       "padding": null,
       "right": null,
       "top": null,
       "visibility": null,
       "width": null
      }
     },
     "fc93cb2262bf4af19e60b347af1411e9": {
      "model_module": "@jupyter-widgets/base",
      "model_module_version": "1.2.0",
      "model_name": "LayoutModel",
      "state": {
       "_model_module": "@jupyter-widgets/base",
       "_model_module_version": "1.2.0",
       "_model_name": "LayoutModel",
       "_view_count": null,
       "_view_module": "@jupyter-widgets/base",
       "_view_module_version": "1.2.0",
       "_view_name": "LayoutView",
       "align_content": null,
       "align_items": null,
       "align_self": null,
       "border": null,
       "bottom": null,
       "display": null,
       "flex": null,
       "flex_flow": null,
       "grid_area": null,
       "grid_auto_columns": null,
       "grid_auto_flow": null,
       "grid_auto_rows": null,
       "grid_column": null,
       "grid_gap": null,
       "grid_row": null,
       "grid_template_areas": null,
       "grid_template_columns": null,
       "grid_template_rows": null,
       "height": null,
       "justify_content": null,
       "justify_items": null,
       "left": null,
       "margin": null,
       "max_height": null,
       "max_width": null,
       "min_height": null,
       "min_width": null,
       "object_fit": null,
       "object_position": null,
       "order": null,
       "overflow": null,
       "overflow_x": null,
       "overflow_y": null,
       "padding": null,
       "right": null,
       "top": null,
       "visibility": null,
       "width": null
      }
     },
     "fda710b920154f16bcce8cd9dfb8502c": {
      "model_module": "@jupyter-widgets/controls",
      "model_module_version": "1.5.0",
      "model_name": "DescriptionStyleModel",
      "state": {
       "_model_module": "@jupyter-widgets/controls",
       "_model_module_version": "1.5.0",
       "_model_name": "DescriptionStyleModel",
       "_view_count": null,
       "_view_module": "@jupyter-widgets/base",
       "_view_module_version": "1.2.0",
       "_view_name": "StyleView",
       "description_width": ""
      }
     }
    },
    "version_major": 2,
    "version_minor": 0
   }
  }
 },
 "nbformat": 4,
 "nbformat_minor": 4
}
